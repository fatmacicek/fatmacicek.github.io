{
  "nbformat": 4,
  "nbformat_minor": 0,
  "metadata": {
    "colab": {
      "provenance": [],
      "authorship_tag": "ABX9TyPUMJU4cK2neuycbyf58jbS",
      "include_colab_link": true
    },
    "kernelspec": {
      "name": "python3",
      "display_name": "Python 3"
    },
    "language_info": {
      "name": "python"
    }
  },
  "cells": [
    {
      "cell_type": "markdown",
      "metadata": {
        "id": "view-in-github",
        "colab_type": "text"
      },
      "source": [
        "<a href=\"https://colab.research.google.com/github/fatmacicek/fatmacicek.github.io/blob/master/Fibonacci.ipynb\" target=\"_parent\"><img src=\"https://colab.research.google.com/assets/colab-badge.svg\" alt=\"Open In Colab\"/></a>"
      ]
    },
    {
      "cell_type": "code",
      "execution_count": 31,
      "metadata": {
        "colab": {
          "base_uri": "https://localhost:8080/"
        },
        "id": "Tw3RWpyFt4xC",
        "outputId": "28903c07-72bc-4faf-b591-175cdb52b857"
      },
      "outputs": [
        {
          "output_type": "execute_result",
          "data": {
            "text/plain": [
              "[0, 1, 1, 2, 3, 5]"
            ]
          },
          "metadata": {},
          "execution_count": 31
        }
      ],
      "source": [
        "### Function returning the n th Fibonacci number (recursively)\n",
        "\n",
        "def fibonacci_v1(n):\n",
        "  if n < 0:\n",
        "    print(\"Error\")\n",
        "  elif n == 0 or n == 1:\n",
        "    return 1\n",
        "  else:\n",
        "    return fibonacci(n-1)+fibonacci(n-2)\n",
        "\n",
        "\n",
        "# print(fibonacci_v1(8))\n",
        "\n",
        "\n",
        "### Function calculating the first n terms of the Fibonacci sequence\n",
        "### (with a while loop) and returning the values as a list\n",
        "\n",
        "\n",
        "def fibonacci_v2(n):\n",
        "  fibonacci = []\n",
        "  fibonacci.append(0)\n",
        "  fibonacci.append(1)\n",
        "  count = 1\n",
        "  while count <= n:\n",
        "    fibonacci.append(fibonacci[-1]+fibonacci[-2])\n",
        "    count = count + 1\n",
        "  return fibonacci\n",
        "\n",
        "\n",
        "fibonacci_v2(4)\n",
        "\n"
      ]
    },
    {
      "cell_type": "code",
      "source": [],
      "metadata": {
        "id": "bsT9qSg6w2TO"
      },
      "execution_count": 31,
      "outputs": []
    }
  ]
}